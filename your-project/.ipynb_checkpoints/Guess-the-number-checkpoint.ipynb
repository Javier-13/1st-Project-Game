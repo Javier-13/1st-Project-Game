{
 "cells": [
  {
   "cell_type": "code",
   "execution_count": 1,
   "metadata": {},
   "outputs": [],
   "source": [
    "#Adding some interesting packages\n",
    "import random #We will use it for the \"AI\" mode\n",
    "import ipywidgets as widgets #We will use it for the PvP mode"
   ]
  },
  {
   "cell_type": "code",
   "execution_count": 5,
   "metadata": {},
   "outputs": [
    {
     "data": {
      "application/vnd.jupyter.widget-view+json": {
       "model_id": "608f19fcf3b6473f9b5ecdfa50c7ef62",
       "version_major": 2,
       "version_minor": 0
      },
      "text/plain": [
       "ToggleButtons(description='Game mode:', options=('AI', 'PvP'), value='AI')"
      ]
     },
     "metadata": {},
     "output_type": "display_data"
    }
   ],
   "source": [
    "#Chosing the game mode\n",
    "\n",
    "game_mode = widgets.ToggleButtons(\n",
    "    options=['AI', 'PvP'],\n",
    "    description='Game mode:',\n",
    "    disabled=False,\n",
    ")\n",
    "game_mode"
   ]
  },
  {
   "cell_type": "code",
   "execution_count": 12,
   "metadata": {},
   "outputs": [
    {
     "data": {
      "application/vnd.jupyter.widget-view+json": {
       "model_id": "3f3371b40ad94c29912b8454a84999ee",
       "version_major": 2,
       "version_minor": 0
      },
      "text/plain": [
       "IntSlider(value=3, description='Best of:', max=10)"
      ]
     },
     "metadata": {},
     "output_type": "display_data"
    },
    {
     "data": {
      "application/vnd.jupyter.widget-view+json": {
       "model_id": "1afb0fa2cc5d4985928210f9aecae119",
       "version_major": 2,
       "version_minor": 0
      },
      "text/plain": [
       "IntRangeSlider(value=(0, 20), continuous_update=False, description='Test:')"
      ]
     },
     "metadata": {},
     "output_type": "display_data"
    },
    {
     "data": {
      "application/vnd.jupyter.widget-view+json": {
       "model_id": "080a7622a207494fa0668bfda056e1d4",
       "version_major": 2,
       "version_minor": 0
      },
      "text/plain": [
       "Button(description='Start!', style=ButtonStyle())"
      ]
     },
     "metadata": {},
     "output_type": "display_data"
    }
   ],
   "source": [
    "#If the AI game mode is chosen:\n",
    "go_on = None #Not necessary bool\n",
    "\n",
    "if game_mode.value == 'AI':\n",
    "    #Creating the number of games slider\n",
    "    games_slider = widgets.IntSlider(\n",
    "    value=3,\n",
    "    min=0,\n",
    "    max=10,\n",
    "    step=1,\n",
    "    orientation='horizontal',\n",
    "    description='Best of:',\n",
    "\n",
    "    )\n",
    "    #Creating the range slider\n",
    "    range_slider = widgets.IntRangeSlider(\n",
    "    value=[0, 20],\n",
    "    min=0,\n",
    "    max=100,\n",
    "    step=1,\n",
    "    description='Test:',\n",
    "    disabled=False,\n",
    "    continuous_update=False,\n",
    "    orientation='horizontal',\n",
    "    )\n",
    "    def on_button_clicked(b):\n",
    "        go_on = True #Not necessary, just to remember to continue to the next cell\n",
    "        \n",
    "    #Declaring the 'start' button\n",
    "    start_butt = widgets.Button(description=\"Start!\")\n",
    "    \n",
    "\n",
    "        \n",
    "    #Declaring variables: Number of games (best_of);\n",
    "    \n",
    "    best_of = games_slider.value\n",
    "    \n",
    "    \n",
    "    def on_button_clicked(b):\n",
    "        IPython.notebook.execute_cells_below()\n",
    "\n",
    "    start_butt.on_click(on_button_clicked)\n",
    "\n",
    "    display(games_slider,range_slider,start_butt)"
   ]
  },
  {
   "cell_type": "code",
   "execution_count": 9,
   "metadata": {},
   "outputs": [
    {
     "data": {
      "application/vnd.jupyter.widget-view+json": {
       "model_id": "ffb04125c38e4724b1a511aa99f858d9",
       "version_major": 2,
       "version_minor": 0
      },
      "text/plain": [
       "IntText(value=0, description='Guess:')"
      ]
     },
     "metadata": {},
     "output_type": "display_data"
    },
    {
     "ename": "NameError",
     "evalue": "name 'win' is not defined",
     "output_type": "error",
     "traceback": [
      "\u001b[0;31m---------------------------------------------------------------------------\u001b[0m",
      "\u001b[0;31mNameError\u001b[0m                                 Traceback (most recent call last)",
      "\u001b[0;32m<ipython-input-9-e29765b8aa1b>\u001b[0m in \u001b[0;36m<module>\u001b[0;34m\u001b[0m\n\u001b[1;32m     12\u001b[0m \u001b[0mdisplay\u001b[0m\u001b[0;34m(\u001b[0m\u001b[0mguess_text\u001b[0m\u001b[0;34m)\u001b[0m\u001b[0;34m\u001b[0m\u001b[0;34m\u001b[0m\u001b[0m\n\u001b[1;32m     13\u001b[0m \u001b[0mguess\u001b[0m \u001b[0;34m=\u001b[0m \u001b[0mguess_text\u001b[0m\u001b[0;34m.\u001b[0m\u001b[0mvalue\u001b[0m\u001b[0;34m\u001b[0m\u001b[0;34m\u001b[0m\u001b[0m\n\u001b[0;32m---> 14\u001b[0;31m \u001b[0mwin\u001b[0m \u001b[0;34m==\u001b[0m \u001b[0;32mFalse\u001b[0m\u001b[0;34m\u001b[0m\u001b[0;34m\u001b[0m\u001b[0m\n\u001b[0m\u001b[1;32m     15\u001b[0m \u001b[0mwinning_games\u001b[0m \u001b[0;34m=\u001b[0m \u001b[0mint\u001b[0m\u001b[0;34m(\u001b[0m\u001b[0mbest_of\u001b[0m\u001b[0;34m/\u001b[0m\u001b[0;36m2\u001b[0m\u001b[0;34m)\u001b[0m\u001b[0;34m\u001b[0m\u001b[0;34m\u001b[0m\u001b[0m\n\u001b[1;32m     16\u001b[0m \u001b[0;34m\u001b[0m\u001b[0m\n",
      "\u001b[0;31mNameError\u001b[0m: name 'win' is not defined"
     ]
    }
   ],
   "source": [
    "minimum = range_slider.value[0]\n",
    "maximum = range_slider.value[1]\n",
    "number = random.randint(minimum, maximum)\n",
    "lifes = 3\n",
    "tries = 0\n",
    "player_wins = 0\n",
    "guess_text = widgets.IntText(\n",
    "    value= minimum,\n",
    "    description='Guess:',\n",
    "    disabled=False\n",
    ")\n",
    "display(guess_text)\n",
    "guess = guess_text.value\n",
    "win == False\n",
    "winning_games = int(best_of/2)\n",
    "\n",
    "\n",
    "    \n",
    "\n",
    "    \n",
    "check_butt = widgets.Button(description=\"Start!\")\n",
    "def on_button_clicked(b):\n",
    "    print(guess)\n",
    "    if number == guess and win == False:\n",
    "        print('Congrats! Let' + \"'\"'' 's rematch! ')\n",
    "        player_wins +=1\n",
    "\n",
    "\n",
    "check_butt.on_click(on_button_clicked)\n",
    "print(number)\n",
    "\n",
    "display(check_butt)"
   ]
  },
  {
   "cell_type": "code",
   "execution_count": null,
   "metadata": {},
   "outputs": [],
   "source": [
    "question = widgets.Password(description='Enter the question:', placeholder='')\n",
    "question"
   ]
  }
 ],
 "metadata": {
  "kernelspec": {
   "display_name": "Python 3",
   "language": "python",
   "name": "python3"
  },
  "language_info": {
   "codemirror_mode": {
    "name": "ipython",
    "version": 3
   },
   "file_extension": ".py",
   "mimetype": "text/x-python",
   "name": "python",
   "nbconvert_exporter": "python",
   "pygments_lexer": "ipython3",
   "version": "3.7.3"
  }
 },
 "nbformat": 4,
 "nbformat_minor": 2
}
