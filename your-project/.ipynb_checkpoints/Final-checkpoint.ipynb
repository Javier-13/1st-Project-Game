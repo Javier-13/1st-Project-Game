{
 "cells": [
  {
   "cell_type": "code",
   "execution_count": null,
   "metadata": {},
   "outputs": [],
   "source": [
    "#Importing the necessary packages\n",
    "import getpass                                    #We will use it for the PvP mode\n",
    "from IPython import display   #ERROR              #We will use them both to make widgets work\n",
    "from IPython.display import Javascript, display                         \n",
    "from ipywidgets import widgets                    #We will use it to create an interactive game\n",
    "import random                                     #We will use it for the \"AI\" mode\n",
    "\n",
    "display(Javascript('Jupyter.notebook.execute_cells([1])'))\n",
    "\n"
   ]
  },
  {
   "cell_type": "code",
   "execution_count": null,
   "metadata": {},
   "outputs": [],
   "source": [
    "def run_AI(z):\n",
    "    display(Javascript('Jupyter.notebook.execute_cells([3])'))\n",
    "    global game_mode\n",
    "    game_mode = False\n",
    "    \n",
    "def run_PvP(z):\n",
    "    global game_mode\n",
    "    game_mode = True\n",
    "    display(Javascript('Jupyter.notebook.execute_cells([3])'))\n",
    "\n",
    "def basic_variables(z):\n",
    "    display(Javascript('Jupyter.notebook.execute_cells([4])'))\n",
    "    \n",
    "def start_pvp_game(z):\n",
    "    display(Javascript('Jupyter.notebook.execute_cells([5])'))\n",
    "    global player1\n",
    "    global player2\n",
    "    global tries\n",
    "    global player2_wins\n",
    "    global player1_wins\n",
    "    global player\n",
    "    global guess\n",
    "    guess= 0\n",
    "    player = True\n",
    "    player2_wins = 0\n",
    "    player1_wins = 0\n",
    "    player1 = player1_box.value\n",
    "    player2 = player2_box.value\n",
    "    tries = 3\n",
    "    print('hola')\n",
    "\n",
    "def pvp_funct1(z):\n",
    "\n",
    "    \n",
    "def pvp_funct2(z):\n",
    "    \n",
    "    \n",
    "\n",
    "\n",
    "\n",
    "        \n",
    "    \n",
    "display(Javascript('Jupyter.notebook.execute_cells([2])'))"
   ]
  },
  {
   "cell_type": "code",
   "execution_count": null,
   "metadata": {},
   "outputs": [],
   "source": [
    "AI_butt = widgets.Button(description=\"AI\")\n",
    "PvP_butt = widgets.Button(description=\"PvP\")\n",
    "AI_butt.on_click(run_AI)\n",
    "PvP_butt.on_click(run_PvP)\n",
    "display(AI_butt,PvP_butt)"
   ]
  },
  {
   "cell_type": "code",
   "execution_count": null,
   "metadata": {},
   "outputs": [],
   "source": [
    "#Creating the number of games slider\n",
    "next_butt = widgets.Button(description=\"Next\")\n",
    "if game_mode:\n",
    "    games_slider = widgets.IntSlider(value=3,min=1,max=15,step=2,description='Best of:')\n",
    "    display(games_slider, next_butt)\n",
    "\n",
    "#Creating the range slider\n",
    "if not game_mode:\n",
    "    games_slider = widgets.IntSlider(value=3,min=1,max=15,step=2,description='Best of:')\n",
    "    range_slider = widgets.IntRangeSlider(value=[0, 20],min=0,max=100,step=1,description='Range:')\n",
    "    display(games_slider,range_slider,next_butt)\n",
    "    \n",
    "\n",
    "    \n",
    "\n",
    "next_butt.on_click(basic_variables)"
   ]
  },
  {
   "cell_type": "code",
   "execution_count": null,
   "metadata": {},
   "outputs": [],
   "source": [
    "BOX=games_slider.value\n",
    "winning_games = int(BOX/2+1)\n",
    "nextpvp_butt = widgets.Button(description=\"Next\")\n",
    "  \n",
    "if game_mode:\n",
    "    player1_box = widgets.Text(value='Username 1')\n",
    "    player2_box = widgets.Text(value='Username 2')\n",
    "    display(player1_box,player2_box,nextpvp_butt)       \n",
    "else:\n",
    "    r_min= range_slider.value[0]\n",
    "    r_max= range_slider.value[1]\n",
    "    display(Javascript('Jupyter.notebook.execute_cells([6])'))\n",
    "    \n",
    "nextpvp_butt.on_click(start_pvp_game)"
   ]
  },
  {
   "cell_type": "code",
   "execution_count": null,
   "metadata": {},
   "outputs": [],
   "source": [
    "#while (player1_wins < winning_games) or (player2_wins < winning_games):\n",
    "pvp_funct_butt1 = widgets.Button(description=\"Next\")\n",
    "pvp_funct_butt2 = widgets.Button(description=\"Next\")\n",
    "\n",
    "if player:\n",
    "    string_box = widgets.Text(value=f'{player1} asks:')\n",
    "    number = getpass.getpass()\n",
    "    guess = widgets.Text(value=f'{player2} answer:')\n",
    "    display(string_box,guess,pvp_funct_butt)\n",
    "    pvp_funct_butt1.on_click(pvp_funct1)\n",
    "    \n",
    "else:\n",
    "    string_box = widgets.Text(value=f'{player2} asks:')\n",
    "    number = getpass.getpass()\n",
    "    guess = widgets.Text(value=f'{player1} answer:')\n",
    "    display(string_box,guess,pvp_funct_butt)\n",
    "    pvp_funct_butt2.on_click(pvp_funct2)\n",
    "    \n"
   ]
  },
  {
   "cell_type": "code",
   "execution_count": null,
   "metadata": {},
   "outputs": [],
   "source": [
    "print(prueba)"
   ]
  }
 ],
 "metadata": {
  "kernelspec": {
   "display_name": "Python 3",
   "language": "python",
   "name": "python3"
  },
  "language_info": {
   "codemirror_mode": {
    "name": "ipython",
    "version": 3
   },
   "file_extension": ".py",
   "mimetype": "text/x-python",
   "name": "python",
   "nbconvert_exporter": "python",
   "pygments_lexer": "ipython3",
   "version": "3.7.3"
  }
 },
 "nbformat": 4,
 "nbformat_minor": 2
}
