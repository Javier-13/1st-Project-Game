{
 "cells": [
  {
   "cell_type": "code",
   "execution_count": 1,
   "metadata": {},
   "outputs": [
    {
     "data": {
      "application/javascript": [
       "Jupyter.notebook.execute_cells([1])"
      ],
      "text/plain": [
       "<IPython.core.display.Javascript object>"
      ]
     },
     "metadata": {},
     "output_type": "display_data"
    }
   ],
   "source": [
    "#Importing the necessary packages\n",
    "import getpass                                    #We will use it for the PvP mode\n",
    "from IPython import display   #ERROR              #We will use them both to make widgets work\n",
    "from IPython.display import Javascript, display                         \n",
    "from ipywidgets import widgets                    #We will use it to create an interactive game\n",
    "import random                                     #We will use it for the \"AI\" mode\n",
    "\n",
    "display(Javascript('Jupyter.notebook.execute_cells([1])'))\n",
    "\n"
   ]
  },
  {
   "cell_type": "code",
   "execution_count": 2,
   "metadata": {},
   "outputs": [
    {
     "data": {
      "application/javascript": [
       "Jupyter.notebook.execute_cells([2])"
      ],
      "text/plain": [
       "<IPython.core.display.Javascript object>"
      ]
     },
     "metadata": {},
     "output_type": "display_data"
    }
   ],
   "source": [
    "def run_AI(z):\n",
    "    display(Javascript('Jupyter.notebook.execute_cells([3])'))\n",
    "    global game_mode\n",
    "    game_mode = False\n",
    "    \n",
    "def run_PvP(z):\n",
    "    global game_mode\n",
    "    game_mode = True\n",
    "    display(Javascript('Jupyter.notebook.execute_cells([3])'))\n",
    "\n",
    "def basic_variables(z):\n",
    "    display(Javascript('Jupyter.notebook.execute_cells([4])'))\n",
    "    \n",
    "def start_pvp_game(z):\n",
    "    display(Javascript('Jupyter.notebook.execute_cells([5])'))\n",
    "    global player1\n",
    "    global player2\n",
    "    global tries\n",
    "    global player2_wins\n",
    "    global player1_wins\n",
    "    global player\n",
    "    global guess\n",
    "    guess= 0\n",
    "    player = True\n",
    "    player2_wins = 0\n",
    "    player1_wins = 0\n",
    "    player1 = player1_box.value\n",
    "    player2 = player2_box.value\n",
    "    tries = 3\n",
    "\n",
    "def pvp_funct1(z):\n",
    "        string_box = widgets.Text(value=f'{player1} asks:')\n",
    "        pvp_funct_butt1\n",
    "        guess = widgets.Text(value=f'{player2} answer:')\n",
    "        display(string_box,guess,pvp_funct_butt)\n",
    " \n",
    "\n",
    "    \n",
    "def pvp_funct2(z):\n",
    "        string_box = widgets.Text(value=f'{player2} asks:')\n",
    "        number = getpass.getpass()\n",
    "        guess = widgets.Text(value=f'{player1} answer:')\n",
    "        display(string_box,guess,pvp_funct_butt)\n",
    "        pvp_funct_butt2.on_click(pvp_funct2)\n",
    "    \n",
    "    \n",
    "\n",
    "\n",
    "\n",
    "        \n",
    "    \n",
    "display(Javascript('Jupyter.notebook.execute_cells([2])'))"
   ]
  },
  {
   "cell_type": "code",
   "execution_count": 3,
   "metadata": {},
   "outputs": [
    {
     "data": {
      "application/vnd.jupyter.widget-view+json": {
       "model_id": "f55069a4364a43cbb921e0a27cc24475",
       "version_major": 2,
       "version_minor": 0
      },
      "text/plain": [
       "Button(description='AI', style=ButtonStyle())"
      ]
     },
     "metadata": {},
     "output_type": "display_data"
    },
    {
     "data": {
      "application/vnd.jupyter.widget-view+json": {
       "model_id": "dc054f3fd9e54866b83f038b765aea5a",
       "version_major": 2,
       "version_minor": 0
      },
      "text/plain": [
       "Button(description='PvP', style=ButtonStyle())"
      ]
     },
     "metadata": {},
     "output_type": "display_data"
    },
    {
     "data": {
      "application/javascript": [
       "Jupyter.notebook.execute_cells([3])"
      ],
      "text/plain": [
       "<IPython.core.display.Javascript object>"
      ]
     },
     "metadata": {},
     "output_type": "display_data"
    },
    {
     "data": {
      "application/javascript": [
       "Jupyter.notebook.execute_cells([3])"
      ],
      "text/plain": [
       "<IPython.core.display.Javascript object>"
      ]
     },
     "metadata": {},
     "output_type": "display_data"
    },
    {
     "data": {
      "application/javascript": [
       "Jupyter.notebook.execute_cells([3])"
      ],
      "text/plain": [
       "<IPython.core.display.Javascript object>"
      ]
     },
     "metadata": {},
     "output_type": "display_data"
    },
    {
     "data": {
      "application/javascript": [
       "Jupyter.notebook.execute_cells([3])"
      ],
      "text/plain": [
       "<IPython.core.display.Javascript object>"
      ]
     },
     "metadata": {},
     "output_type": "display_data"
    },
    {
     "data": {
      "application/javascript": [
       "Jupyter.notebook.execute_cells([3])"
      ],
      "text/plain": [
       "<IPython.core.display.Javascript object>"
      ]
     },
     "metadata": {},
     "output_type": "display_data"
    }
   ],
   "source": [
    "AI_butt = widgets.Button(description=\"AI\")\n",
    "PvP_butt = widgets.Button(description=\"PvP\")\n",
    "AI_butt.on_click(run_AI)\n",
    "PvP_butt.on_click(run_PvP)\n",
    "display(AI_butt,PvP_butt)"
   ]
  },
  {
   "cell_type": "code",
   "execution_count": 10,
   "metadata": {},
   "outputs": [
    {
     "data": {
      "application/vnd.jupyter.widget-view+json": {
       "model_id": "3db50f5219d84133b7aaef5d5b3d78ae",
       "version_major": 2,
       "version_minor": 0
      },
      "text/plain": [
       "IntSlider(value=3, description='Best of:', max=15, min=1, step=2)"
      ]
     },
     "metadata": {},
     "output_type": "display_data"
    },
    {
     "data": {
      "application/vnd.jupyter.widget-view+json": {
       "model_id": "06e125b8d25c40a99dcba31528c5534b",
       "version_major": 2,
       "version_minor": 0
      },
      "text/plain": [
       "Button(description='Next', style=ButtonStyle())"
      ]
     },
     "metadata": {},
     "output_type": "display_data"
    },
    {
     "data": {
      "application/javascript": [
       "Jupyter.notebook.execute_cells([4])"
      ],
      "text/plain": [
       "<IPython.core.display.Javascript object>"
      ]
     },
     "metadata": {},
     "output_type": "display_data"
    }
   ],
   "source": [
    "#Creating the number of games slider\n",
    "next_butt = widgets.Button(description=\"Next\")\n",
    "if game_mode:\n",
    "    games_slider = widgets.IntSlider(value=3,min=1,max=15,step=2,description='Best of:')\n",
    "    display(games_slider, next_butt)\n",
    "\n",
    "#Creating the range slider\n",
    "if not game_mode:\n",
    "    games_slider = widgets.IntSlider(value=3,min=1,max=15,step=2,description='Best of:')\n",
    "    range_slider = widgets.IntRangeSlider(value=[0, 20],min=0,max=100,step=1,description='Range:')\n",
    "    display(games_slider,range_slider,next_butt)\n",
    "    \n",
    "\n",
    "    \n",
    "\n",
    "next_butt.on_click(basic_variables)"
   ]
  },
  {
   "cell_type": "code",
   "execution_count": 11,
   "metadata": {},
   "outputs": [
    {
     "data": {
      "application/vnd.jupyter.widget-view+json": {
       "model_id": "85d73cf058e9484093e31240f6f17e09",
       "version_major": 2,
       "version_minor": 0
      },
      "text/plain": [
       "Text(value='Username 1')"
      ]
     },
     "metadata": {},
     "output_type": "display_data"
    },
    {
     "data": {
      "application/vnd.jupyter.widget-view+json": {
       "model_id": "cbb0c050877b45ee9771a91b348021bb",
       "version_major": 2,
       "version_minor": 0
      },
      "text/plain": [
       "Text(value='Username 2')"
      ]
     },
     "metadata": {},
     "output_type": "display_data"
    },
    {
     "data": {
      "application/vnd.jupyter.widget-view+json": {
       "model_id": "f0dbafa4a05d4620a2e16c7892f960a7",
       "version_major": 2,
       "version_minor": 0
      },
      "text/plain": [
       "Button(description='Next', style=ButtonStyle())"
      ]
     },
     "metadata": {},
     "output_type": "display_data"
    },
    {
     "data": {
      "application/javascript": [
       "Jupyter.notebook.execute_cells([5])"
      ],
      "text/plain": [
       "<IPython.core.display.Javascript object>"
      ]
     },
     "metadata": {},
     "output_type": "display_data"
    },
    {
     "data": {
      "application/javascript": [
       "Jupyter.notebook.execute_cells([5])"
      ],
      "text/plain": [
       "<IPython.core.display.Javascript object>"
      ]
     },
     "metadata": {},
     "output_type": "display_data"
    }
   ],
   "source": [
    "BOX=games_slider.value\n",
    "winning_games = int(BOX/2+1)\n",
    "nextpvp_butt = widgets.Button(description=\"Next\")\n",
    "  \n",
    "if game_mode:\n",
    "    player1_box = widgets.Text(value='Username 1')\n",
    "    player2_box = widgets.Text(value='Username 2')\n",
    "    display(player1_box,player2_box,nextpvp_butt)       \n",
    "else:\n",
    "    r_min= range_slider.value[0]\n",
    "    r_max= range_slider.value[1]\n",
    "    display(Javascript('Jupyter.notebook.execute_cells([6])'))\n",
    "    \n",
    "nextpvp_butt.on_click(start_pvp_game)"
   ]
  },
  {
   "cell_type": "code",
   "execution_count": 13,
   "metadata": {},
   "outputs": [
    {
     "data": {
      "application/vnd.jupyter.widget-view+json": {
       "model_id": "3dc18c589b3e404db0d347e33d68362c",
       "version_major": 2,
       "version_minor": 0
      },
      "text/plain": [
       "Button(description='Next', style=ButtonStyle())"
      ]
     },
     "metadata": {},
     "output_type": "display_data"
    },
    {
     "ename": "NameError",
     "evalue": "name 'pvp_funct_butt' is not defined",
     "output_type": "error",
     "traceback": [
      "\u001b[0;31m---------------------------------------------------------------------------\u001b[0m",
      "\u001b[0;31mNameError\u001b[0m                                 Traceback (most recent call last)",
      "\u001b[0;32m<ipython-input-2-c054031c7088>\u001b[0m in \u001b[0;36mpvp_funct1\u001b[0;34m(z)\u001b[0m\n\u001b[1;32m     33\u001b[0m         \u001b[0mpvp_funct_butt1\u001b[0m\u001b[0;34m\u001b[0m\u001b[0;34m\u001b[0m\u001b[0m\n\u001b[1;32m     34\u001b[0m         \u001b[0mguess\u001b[0m \u001b[0;34m=\u001b[0m \u001b[0mwidgets\u001b[0m\u001b[0;34m.\u001b[0m\u001b[0mText\u001b[0m\u001b[0;34m(\u001b[0m\u001b[0mvalue\u001b[0m\u001b[0;34m=\u001b[0m\u001b[0;34mf'{player2} answer:'\u001b[0m\u001b[0;34m)\u001b[0m\u001b[0;34m\u001b[0m\u001b[0;34m\u001b[0m\u001b[0m\n\u001b[0;32m---> 35\u001b[0;31m         \u001b[0mdisplay\u001b[0m\u001b[0;34m(\u001b[0m\u001b[0mstring_box\u001b[0m\u001b[0;34m,\u001b[0m\u001b[0mguess\u001b[0m\u001b[0;34m,\u001b[0m\u001b[0mpvp_funct_butt\u001b[0m\u001b[0;34m)\u001b[0m\u001b[0;34m\u001b[0m\u001b[0;34m\u001b[0m\u001b[0m\n\u001b[0m\u001b[1;32m     36\u001b[0m \u001b[0;34m\u001b[0m\u001b[0m\n\u001b[1;32m     37\u001b[0m \u001b[0;34m\u001b[0m\u001b[0m\n",
      "\u001b[0;31mNameError\u001b[0m: name 'pvp_funct_butt' is not defined"
     ]
    }
   ],
   "source": [
    "#while (player1_wins < winning_games) or (player2_wins < winning_games):\n",
    "pvp_funct_butt1 = widgets.Button(description=\"Next\")\n",
    "pvp_funct_butt2 = widgets.Button(description=\"Next\")\n",
    "display(pvp_funct_butt1)\n",
    "pvp_funct_butt1.on_click(pvp_funct1)\n",
    "\n",
    "\n",
    "    \n"
   ]
  },
  {
   "cell_type": "code",
   "execution_count": null,
   "metadata": {},
   "outputs": [],
   "source": []
  },
  {
   "cell_type": "code",
   "execution_count": null,
   "metadata": {},
   "outputs": [],
   "source": []
  }
 ],
 "metadata": {
  "kernelspec": {
   "display_name": "Python 3",
   "language": "python",
   "name": "python3"
  },
  "language_info": {
   "codemirror_mode": {
    "name": "ipython",
    "version": 3
   },
   "file_extension": ".py",
   "mimetype": "text/x-python",
   "name": "python",
   "nbconvert_exporter": "python",
   "pygments_lexer": "ipython3",
   "version": "3.7.3"
  }
 },
 "nbformat": 4,
 "nbformat_minor": 2
}
