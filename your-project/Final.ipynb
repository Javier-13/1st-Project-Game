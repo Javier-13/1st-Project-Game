{
 "cells": [
  {
   "cell_type": "code",
   "execution_count": 1,
   "metadata": {},
   "outputs": [
    {
     "data": {
      "application/javascript": [
       "Jupyter.notebook.execute_cells([1])"
      ],
      "text/plain": [
       "<IPython.core.display.Javascript object>"
      ]
     },
     "metadata": {},
     "output_type": "display_data"
    }
   ],
   "source": [
    "#Importing the necessary packages\n",
    "from random import randint\n",
    "import getpass                                    #We will use it for the PvP mode\n",
    "from IPython import display   #ERROR              #We will use them both to make widgets work\n",
    "from IPython.display import Javascript, display                         \n",
    "from ipywidgets import widgets                    #We will use it to create an interactive game\n",
    "import random                                     #We will use it for the \"AI\" mode\n",
    "\n",
    "display(Javascript('Jupyter.notebook.execute_cells([1])'))\n",
    "\n"
   ]
  },
  {
   "cell_type": "code",
   "execution_count": 2,
   "metadata": {},
   "outputs": [
    {
     "data": {
      "application/javascript": [
       "Jupyter.notebook.execute_cells([2])"
      ],
      "text/plain": [
       "<IPython.core.display.Javascript object>"
      ]
     },
     "metadata": {},
     "output_type": "display_data"
    }
   ],
   "source": [
    "def restart(z):\n",
    "    display(Javascript('Jupyter.notebook.execute_cells([2])'))\n",
    "\n",
    "def run_AI(z):\n",
    "    display(Javascript('Jupyter.notebook.execute_cells([3])'))\n",
    "    global game_mode\n",
    "    game_mode = False\n",
    "    \n",
    "def run_PvP(z):\n",
    "    global game_mode\n",
    "    game_mode = True\n",
    "    display(Javascript('Jupyter.notebook.execute_cells([3])'))\n",
    "\n",
    "def basic_variables(z):\n",
    "    display(Javascript('Jupyter.notebook.execute_cells([4])'))\n",
    "    \n",
    "def start_pvp_game(z):\n",
    "    display(Javascript('Jupyter.notebook.execute_cells([5])'))\n",
    "\n",
    "def pvp_funct1(z):\n",
    "        string_box = widgets.Text(value=f'{player1} asks:')\n",
    "        pvp_funct_butt1\n",
    "        guess = widgets.Text(value=f'{player2} answer:')\n",
    "        display(string_box,guess,pvp_funct_butt)\n",
    "     \n",
    "    \n",
    "def pvp_funct2(z):\n",
    "        string_box = widgets.Text(value=f'{player2} asks:')\n",
    "        number = getpass.getpass()\n",
    "        guess = widgets.Text(value=f'{player1} answer:')\n",
    "        display(string_box,guess,pvp_funct_butt)\n",
    "        pvp_funct_butt2.on_click(pvp_funct2)\n",
    "        \n",
    "def AI_funct(minim, maxim, win):\n",
    "    restart_butt = widgets.Button(description=\"Try again\")\n",
    "    restart_butt.on_click(restart)\n",
    "    player_wins = 0\n",
    "    machine_wins = 0\n",
    "    attempts=3\n",
    "    number = randint(minim, maxim)\n",
    "    dumb = 0\n",
    "    while (player_wins < win) and (machine_wins <win):\n",
    "        guess=input(\"Guess: \")\n",
    "        \n",
    "        if guess.isnumeric():\n",
    "            guess = int(guess)\n",
    "            if number == guess:\n",
    "                player_wins += 1\n",
    "                attempts = 3\n",
    "                number = randint(minim, maxim)\n",
    "                print(f'Congratulations! Your points:{player_wins}')\n",
    "            elif (number != guess) and (attempts > 1):\n",
    "                if number < guess:\n",
    "                    print(\"The number is lower!\")\n",
    "                elif number > guess:\n",
    "                    print(\"The number is higher!\")\n",
    "                attempts -= 1\n",
    "                print(f\"Come on, you still have a chance! attempts:{attempts}\")\n",
    "            else:\n",
    "                machine_wins += 1\n",
    "                attempts = 3\n",
    "                number = randint(minim, maxim)\n",
    "                print(f'You are not lucky today... AI points: {machine_wins} ')\n",
    "                \n",
    "        elif dumb <2: \n",
    "            print('Check your neuro... input number i guess <3')\n",
    "            dumb += 1\n",
    "            \n",
    "        else: \n",
    "            print('Error 404: Brain not found')\n",
    "            attempts -= 1\n",
    "            \n",
    "    if player_wins == win:\n",
    "        print('Congratulations! You have won! Wanna try again?')\n",
    "        display(restart_butt)\n",
    "  \n",
    "    else:\n",
    "        print('What a bad luck you had, you lost :(. Wanna try again?')\n",
    "        display(restart_butt)\n",
    "            \n",
    "        \n",
    "        \n",
    "def PvP_funct(p1, p2, win):\n",
    "    p1_wins = 0\n",
    "    p2_wins = 0\n",
    "    attempts=3\n",
    "    dumb = 0\n",
    "    \n",
    "    while (p1_wins < win) and (p2_wins <win):\n",
    "        \n",
    "        number = getpass.getpass('Introduce the number: ')\n",
    "        string = getpass.getpass('Introduce the data: ')\n",
    "        print(f'Clue: {string}')\n",
    "        \n",
    "        while number.isnumeric():\n",
    "            \n",
    "            number = int(number)\n",
    "            guess=input(\"Guess: \")\n",
    "        \n",
    "            if guess.isnumeric():\n",
    "                guess = int(guess)\n",
    "                if number == guess:\n",
    "                    p1_wins += 1\n",
    "                    attempts = 3\n",
    "                    print(f'Congratulations {p1}! You have {p1_wins} points')\n",
    "                    number =str(number)\n",
    "                    break\n",
    "                elif (number != guess) and (attempts > 1):\n",
    "                    number =str(number)\n",
    "                    attempts -= 1\n",
    "                    print(f\"Come on, you still have a chance! attempts: {attempts}\")\n",
    "                else:\n",
    "                    p2_wins += 1\n",
    "                    attempts = 3\n",
    "                    print(f'Congratulations {p2}! You have {p2_wins} points')\n",
    "                    number =str(number)\n",
    "                    break\n",
    "                \n",
    "            elif dumb <2: \n",
    "                print('Check your neuro... input number i guess <3')\n",
    "                number =str(number)\n",
    "                dumb += 1\n",
    "            \n",
    "            else: \n",
    "                print('Error 404: Brain not found')\n",
    "                number =str(number)\n",
    "                attempts -= 1\n",
    "        else:        \n",
    "            print(\"Almost bro, but it is not trivial.\")\n",
    "            sys.exit()\n",
    "\n",
    "\n",
    "        \n",
    "            \n",
    "    if player_wins == win:\n",
    "        print(f'Congratulations! You have won! Wanna try again?')\n",
    "  \n",
    "    else:\n",
    "        print(f'Congratulations! You have won! Wanna try again?')\n",
    "        \n",
    "display(Javascript('Jupyter.notebook.execute_cells([2])'))"
   ]
  },
  {
   "cell_type": "code",
   "execution_count": 3,
   "metadata": {},
   "outputs": [
    {
     "data": {
      "application/vnd.jupyter.widget-view+json": {
       "model_id": "b3c8b837a7044ab2993cedee7144c050",
       "version_major": 2,
       "version_minor": 0
      },
      "text/plain": [
       "Button(description='AI', style=ButtonStyle())"
      ]
     },
     "metadata": {},
     "output_type": "display_data"
    },
    {
     "data": {
      "application/vnd.jupyter.widget-view+json": {
       "model_id": "e76ce70dc51248819f1386eaa00b1199",
       "version_major": 2,
       "version_minor": 0
      },
      "text/plain": [
       "Button(description='PvP', style=ButtonStyle())"
      ]
     },
     "metadata": {},
     "output_type": "display_data"
    },
    {
     "data": {
      "application/javascript": [
       "Jupyter.notebook.execute_cells([3])"
      ],
      "text/plain": [
       "<IPython.core.display.Javascript object>"
      ]
     },
     "metadata": {},
     "output_type": "display_data"
    }
   ],
   "source": [
    "AI_butt = widgets.Button(description=\"AI\")\n",
    "PvP_butt = widgets.Button(description=\"PvP\")\n",
    "AI_butt.on_click(run_AI)\n",
    "PvP_butt.on_click(run_PvP)\n",
    "display(AI_butt,PvP_butt)"
   ]
  },
  {
   "cell_type": "code",
   "execution_count": 4,
   "metadata": {},
   "outputs": [
    {
     "data": {
      "application/vnd.jupyter.widget-view+json": {
       "model_id": "88594f8c35c9429991b524be8a02aa72",
       "version_major": 2,
       "version_minor": 0
      },
      "text/plain": [
       "IntSlider(value=3, description='Best of:', max=15, min=1, step=2)"
      ]
     },
     "metadata": {},
     "output_type": "display_data"
    },
    {
     "data": {
      "application/vnd.jupyter.widget-view+json": {
       "model_id": "2bbb69c39386483ca5b5c69a46efe8f0",
       "version_major": 2,
       "version_minor": 0
      },
      "text/plain": [
       "Button(description='Next', style=ButtonStyle())"
      ]
     },
     "metadata": {},
     "output_type": "display_data"
    },
    {
     "data": {
      "application/javascript": [
       "Jupyter.notebook.execute_cells([4])"
      ],
      "text/plain": [
       "<IPython.core.display.Javascript object>"
      ]
     },
     "metadata": {},
     "output_type": "display_data"
    }
   ],
   "source": [
    "#Creating the number of games slider\n",
    "next_butt = widgets.Button(description=\"Next\")\n",
    "if game_mode:\n",
    "    games_slider = widgets.IntSlider(value=3,min=1,max=15,step=2,description='Best of:')\n",
    "    display(games_slider, next_butt)\n",
    "\n",
    "#Creating the range slider\n",
    "if not game_mode:\n",
    "    games_slider = widgets.IntSlider(value=3,min=1,max=15,step=2,description='Best of:')\n",
    "    range_slider = widgets.IntRangeSlider(value=[0, 20],min=0,max=100,step=1,description='Range:')\n",
    "    display(games_slider,range_slider,next_butt)\n",
    "\n",
    "next_butt.on_click(basic_variables)"
   ]
  },
  {
   "cell_type": "code",
   "execution_count": 5,
   "metadata": {},
   "outputs": [
    {
     "name": "stdout",
     "output_type": "stream",
     "text": [
      "Username 1: Jasudh\n",
      "Username 2: saduhas\n",
      "Introduce the number: ········\n",
      "Introduce the data: ········\n",
      "Clue: asyvuf\n",
      "Almost bro, but it is not trivial.\n"
     ]
    },
    {
     "ename": "NameError",
     "evalue": "name 'sys' is not defined",
     "output_type": "error",
     "traceback": [
      "\u001b[0;31m---------------------------------------------------------------------------\u001b[0m",
      "\u001b[0;31mNameError\u001b[0m                                 Traceback (most recent call last)",
      "\u001b[0;32m<ipython-input-5-3dc0b3aad133>\u001b[0m in \u001b[0;36m<module>\u001b[0;34m\u001b[0m\n\u001b[1;32m      6\u001b[0m     \u001b[0mplayer_1\u001b[0m \u001b[0;34m=\u001b[0m \u001b[0minput\u001b[0m\u001b[0;34m(\u001b[0m\u001b[0;34m'Username 1: '\u001b[0m\u001b[0;34m)\u001b[0m\u001b[0;34m\u001b[0m\u001b[0;34m\u001b[0m\u001b[0m\n\u001b[1;32m      7\u001b[0m     \u001b[0mplayer_2\u001b[0m \u001b[0;34m=\u001b[0m \u001b[0minput\u001b[0m\u001b[0;34m(\u001b[0m\u001b[0;34m'Username 2: '\u001b[0m\u001b[0;34m)\u001b[0m\u001b[0;34m\u001b[0m\u001b[0;34m\u001b[0m\u001b[0m\n\u001b[0;32m----> 8\u001b[0;31m     \u001b[0mPvP_funct\u001b[0m\u001b[0;34m(\u001b[0m\u001b[0mplayer_1\u001b[0m\u001b[0;34m,\u001b[0m\u001b[0mplayer_2\u001b[0m\u001b[0;34m,\u001b[0m\u001b[0mwinning_games\u001b[0m\u001b[0;34m)\u001b[0m\u001b[0;34m\u001b[0m\u001b[0;34m\u001b[0m\u001b[0m\n\u001b[0m\u001b[1;32m      9\u001b[0m \u001b[0;34m\u001b[0m\u001b[0m\n\u001b[1;32m     10\u001b[0m \u001b[0;32melse\u001b[0m\u001b[0;34m:\u001b[0m\u001b[0;34m\u001b[0m\u001b[0;34m\u001b[0m\u001b[0m\n",
      "\u001b[0;32m<ipython-input-2-dd2ad6d42c8c>\u001b[0m in \u001b[0;36mPvP_funct\u001b[0;34m(p1, p2, win)\u001b[0m\n\u001b[1;32m    128\u001b[0m         \u001b[0;32melse\u001b[0m\u001b[0;34m:\u001b[0m\u001b[0;34m\u001b[0m\u001b[0;34m\u001b[0m\u001b[0m\n\u001b[1;32m    129\u001b[0m             \u001b[0mprint\u001b[0m\u001b[0;34m(\u001b[0m\u001b[0;34m\"Almost bro, but it is not trivial.\"\u001b[0m\u001b[0;34m)\u001b[0m\u001b[0;34m\u001b[0m\u001b[0;34m\u001b[0m\u001b[0m\n\u001b[0;32m--> 130\u001b[0;31m             \u001b[0msys\u001b[0m\u001b[0;34m.\u001b[0m\u001b[0mexit\u001b[0m\u001b[0;34m(\u001b[0m\u001b[0;34m)\u001b[0m\u001b[0;34m\u001b[0m\u001b[0;34m\u001b[0m\u001b[0m\n\u001b[0m\u001b[1;32m    131\u001b[0m \u001b[0;34m\u001b[0m\u001b[0m\n\u001b[1;32m    132\u001b[0m \u001b[0;34m\u001b[0m\u001b[0m\n",
      "\u001b[0;31mNameError\u001b[0m: name 'sys' is not defined"
     ]
    }
   ],
   "source": [
    "BOX=games_slider.value\n",
    "winning_games = int(BOX/2+1)\n",
    "\n",
    "  \n",
    "if game_mode:  \n",
    "    player_1 = input('Username 1: ')\n",
    "    player_2 = input('Username 2: ')\n",
    "    PvP_funct(player_1,player_2,winning_games)\n",
    "    \n",
    "else:\n",
    "    number = 0 #randint(0, 9)\n",
    "    r_min= range_slider.value[0]\n",
    "    r_max= range_slider.value[1]\n",
    "    AI_funct(r_min,r_max,winning_games)\n",
    "\n",
    "    #display(Javascript('Jupyter.notebook.execute_cells([6])'))\n",
    "    \n",
    "#nextpvp_butt.on_click(start_pvp_game)"
   ]
  },
  {
   "cell_type": "code",
   "execution_count": null,
   "metadata": {},
   "outputs": [],
   "source": []
  }
 ],
 "metadata": {
  "kernelspec": {
   "display_name": "Python 3",
   "language": "python",
   "name": "python3"
  },
  "language_info": {
   "codemirror_mode": {
    "name": "ipython",
    "version": 3
   },
   "file_extension": ".py",
   "mimetype": "text/x-python",
   "name": "python",
   "nbconvert_exporter": "python",
   "pygments_lexer": "ipython3",
   "version": "3.7.3"
  }
 },
 "nbformat": 4,
 "nbformat_minor": 2
}
