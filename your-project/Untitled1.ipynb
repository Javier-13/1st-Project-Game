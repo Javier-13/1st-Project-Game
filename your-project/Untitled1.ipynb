{
 "cells": [
  {
   "cell_type": "code",
   "execution_count": 16,
   "metadata": {},
   "outputs": [
    {
     "data": {
      "application/javascript": [
       "Jupyter.notebook.execute_cells([1])"
      ],
      "text/plain": [
       "<IPython.core.display.Javascript object>"
      ]
     },
     "metadata": {},
     "output_type": "display_data"
    }
   ],
   "source": [
    "import getpass                                    #We will use it for the PvP mode\n",
    "from IPython import display   #ERROR              #We will use them both to make widgets work\n",
    "from IPython.display import Javascript, display                         \n",
    "from ipywidgets import widgets                    #We will use it to create an interactive game\n",
    "import random                                     #We will use it for the \"AI\" mode\n",
    "\n",
    "display(Javascript('Jupyter.notebook.execute_cells([1])'))\n",
    "\n"
   ]
  },
  {
   "cell_type": "code",
   "execution_count": 19,
   "metadata": {},
   "outputs": [
    {
     "data": {
      "application/vnd.jupyter.widget-view+json": {
       "model_id": "832870c59bf6413f896cf7903f56b7c1",
       "version_major": 2,
       "version_minor": 0
      },
      "text/plain": [
       "Box(children=(Button(description='Add Route', style=ButtonStyle()), Button(description='234', style=ButtonStyl…"
      ]
     },
     "metadata": {},
     "output_type": "display_data"
    },
    {
     "data": {
      "application/vnd.jupyter.widget-view+json": {
       "model_id": "a6f9c8d715834014beadc2e33c1f81f1",
       "version_major": 2,
       "version_minor": 0
      },
      "text/plain": [
       "Textarea(value='')"
      ]
     },
     "metadata": {},
     "output_type": "display_data"
    }
   ],
   "source": [
    "from ipywidgets import widgets as wd\n",
    "from ipywidgets import Layout, Box\n",
    "from IPython.display import display\n",
    "\n",
    "btnLayout = Layout(flex='1 1 auto', width='auto')\n",
    "\n",
    "btns= [\n",
    "    wd.Button(description=\"Add Route\"),\n",
    "    wd.Button(description=\"234\"),\n",
    "    wd.Button(description=\"411\")\n",
    "]\n",
    "\n",
    "box_layout = Layout(display='flex',\n",
    "                    flex_flow='row',\n",
    "                    align_items='stretch')\n",
    "\n",
    "box = Box(children=btns, layout=box_layout)\n",
    "\n",
    "display(box)\n",
    "box.children[1].layout.visibility = 'hidden'\n",
    "box.children[2].layout.visibility = 'hidden'\n",
    "\n",
    "txtArea = wd.Textarea()\n",
    "display(txtArea)\n",
    "\n",
    "def show(b):\n",
    "    box.children[1].layout.visibility = 'visible'\n",
    "    box.children[2].layout.visibility = 'visible'\n",
    "\n",
    "#function intended to append button value/description to textArea\n",
    "def add_text(b):\n",
    "    txtArea.value = b.description + txtArea.value\n",
    "\n",
    "box.children[0].on_click(show)\n",
    "box.children[1].on_click(add_text)\n",
    "box.children[2].on_click(add_text)"
   ]
  },
  {
   "cell_type": "code",
   "execution_count": null,
   "metadata": {},
   "outputs": [],
   "source": []
  }
 ],
 "metadata": {
  "kernelspec": {
   "display_name": "Python 3",
   "language": "python",
   "name": "python3"
  },
  "language_info": {
   "codemirror_mode": {
    "name": "ipython",
    "version": 3
   },
   "file_extension": ".py",
   "mimetype": "text/x-python",
   "name": "python",
   "nbconvert_exporter": "python",
   "pygments_lexer": "ipython3",
   "version": "3.7.3"
  }
 },
 "nbformat": 4,
 "nbformat_minor": 2
}
