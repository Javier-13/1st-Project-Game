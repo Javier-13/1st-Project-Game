{
 "cells": [
  {
   "cell_type": "code",
   "execution_count": 1,
   "metadata": {},
   "outputs": [],
   "source": [
    "#Adding some interesting packages\n",
    "import random #We will use it for the \"AI\" mode\n",
    "import ipywidgets as widgets #We will use it for the PvP mode"
   ]
  },
  {
   "cell_type": "code",
   "execution_count": 2,
   "metadata": {},
   "outputs": [
    {
     "data": {
      "application/vnd.jupyter.widget-view+json": {
       "model_id": "4e0d34b857c14428b1079c19ebf41c8e",
       "version_major": 2,
       "version_minor": 0
      },
      "text/plain": [
       "ToggleButtons(description='Game mode:', options=('AI', 'PvP'), value='AI')"
      ]
     },
     "metadata": {},
     "output_type": "display_data"
    }
   ],
   "source": [
    "#Chosing the game mode\n",
    "\n",
    "game_mode = widgets.ToggleButtons(\n",
    "    options=['AI', 'PvP'],\n",
    "    description='Game mode:',\n",
    "    disabled=False,\n",
    ")\n",
    "game_mode"
   ]
  },
  {
   "cell_type": "code",
   "execution_count": 3,
   "metadata": {},
   "outputs": [
    {
     "data": {
      "application/vnd.jupyter.widget-view+json": {
       "model_id": "5babff164faa46e5b7aed117d3f9fea9",
       "version_major": 2,
       "version_minor": 0
      },
      "text/plain": [
       "IntSlider(value=3, description='Best of:', max=10)"
      ]
     },
     "metadata": {},
     "output_type": "display_data"
    },
    {
     "data": {
      "application/vnd.jupyter.widget-view+json": {
       "model_id": "1d5784666dca4b5b9bcafe3efb389d65",
       "version_major": 2,
       "version_minor": 0
      },
      "text/plain": [
       "IntRangeSlider(value=(0, 20), continuous_update=False, description='Test:')"
      ]
     },
     "metadata": {},
     "output_type": "display_data"
    },
    {
     "data": {
      "application/vnd.jupyter.widget-view+json": {
       "model_id": "a05d937237fe45dc99409d113f22fcef",
       "version_major": 2,
       "version_minor": 0
      },
      "text/plain": [
       "Button(description='Start!', style=ButtonStyle())"
      ]
     },
     "metadata": {},
     "output_type": "display_data"
    }
   ],
   "source": [
    "#If the AI game mode is chosen:\n",
    "go_on = None\n",
    "best_of = games_slider.value\n",
    "if game_mode.value == 'AI':\n",
    "    games_slider = widgets.IntSlider(\n",
    "    value=3,\n",
    "    min=0,\n",
    "    max=10,\n",
    "    step=1,\n",
    "    orientation='horizontal',\n",
    "    description='Best of:',\n",
    "\n",
    "    )\n",
    "    range_slider = widgets.IntRangeSlider(\n",
    "    value=[0, 20],\n",
    "    min=0,\n",
    "    max=100,\n",
    "    step=1,\n",
    "    description='Test:',\n",
    "    disabled=False,\n",
    "    continuous_update=False,\n",
    "    orientation='horizontal',\n",
    "    )\n",
    "    \n",
    "    start_butt = widgets.Button(description=\"Start!\")\n",
    "\n",
    "    def on_button_clicked(b):\n",
    "        go_on = True #Not necessary, just to remember to continue to the next cell\n",
    "\n",
    "    start_butt.on_click(on_button_clicked)\n",
    "\n",
    "    display(games_slider,range_slider,start_butt)"
   ]
  },
  {
   "cell_type": "code",
   "execution_count": 17,
   "metadata": {},
   "outputs": [
    {
     "data": {
      "application/vnd.jupyter.widget-view+json": {
       "model_id": "b64b2925da9f43f1802cd0b196488059",
       "version_major": 2,
       "version_minor": 0
      },
      "text/plain": [
       "IntText(value=0, description='Guess:')"
      ]
     },
     "metadata": {},
     "output_type": "display_data"
    },
    {
     "name": "stdout",
     "output_type": "stream",
     "text": [
      "20\n"
     ]
    },
    {
     "data": {
      "application/vnd.jupyter.widget-view+json": {
       "model_id": "275d776848cc479fad33fafab7a5417f",
       "version_major": 2,
       "version_minor": 0
      },
      "text/plain": [
       "Button(description='Check!', style=ButtonStyle())"
      ]
     },
     "metadata": {},
     "output_type": "display_data"
    }
   ],
   "source": [
    "minimum = range_slider.value[0]\n",
    "maximum = range_slider.value[1]\n",
    "number = random.randint(minimum, maximum)\n",
    "lifes = 3\n",
    "tries = 0\n",
    "player_wins = 0\n",
    "guess_text = widgets.IntText(\n",
    "    value= minimum,\n",
    "    description='Guess:',\n",
    "    disabled=False\n",
    ")\n",
    "display(guess_text)\n",
    "guess = guess_text.value\n",
    "win == False\n",
    "winning_games = int(best_of/2)\n",
    "\n",
    "check_butt = widgets.Button(description=\"Check!\")\n",
    "for i in winning_games:\n",
    "    \n",
    "\n",
    "    \n",
    "check_butt = widgets.Button(description=\"Check!\")\n",
    "def on_button_clicked(b):\n",
    "    print(guess)\n",
    "    if number == guess and win == False:\n",
    "        print('Congrats! Let' + \"'\"'' 's rematch! ')\n",
    "        player_wins +=1\n",
    "    else if\n",
    "\n",
    "check_butt.on_click(on_button_clicked)\n",
    "print(number)\n",
    "\n",
    "display(check_butt)"
   ]
  },
  {
   "cell_type": "code",
   "execution_count": 3,
   "metadata": {},
   "outputs": [
    {
     "name": "stdout",
     "output_type": "stream",
     "text": [
      "Congrats! Let's rematch! \n"
     ]
    }
   ],
   "source": [
    "print('Congrats! Let' + \"'\"'' 's rematch! ')"
   ]
  },
  {
   "cell_type": "code",
   "execution_count": 6,
   "metadata": {},
   "outputs": [
    {
     "data": {
      "application/vnd.jupyter.widget-view+json": {
       "model_id": "246243b8b55447c9a8119cf6a1684d3b",
       "version_major": 2,
       "version_minor": 0
      },
      "text/plain": [
       "Password(description='Password:', placeholder='Make it long!')"
      ]
     },
     "metadata": {},
     "output_type": "display_data"
    }
   ],
   "source": [
    "password_widget = widgets.Password(description='Password:', placeholder='Make it long!')\n",
    "password_widget"
   ]
  },
  {
   "cell_type": "code",
   "execution_count": 6,
   "metadata": {},
   "outputs": [
    {
     "data": {
      "text/plain": [
       "2"
      ]
     },
     "execution_count": 6,
     "metadata": {},
     "output_type": "execute_result"
    }
   ],
   "source": [
    "int(4/2)"
   ]
  },
  {
   "cell_type": "code",
   "execution_count": null,
   "metadata": {},
   "outputs": [],
   "source": []
  }
 ],
 "metadata": {
  "kernelspec": {
   "display_name": "Python 3",
   "language": "python",
   "name": "python3"
  },
  "language_info": {
   "codemirror_mode": {
    "name": "ipython",
    "version": 3
   },
   "file_extension": ".py",
   "mimetype": "text/x-python",
   "name": "python",
   "nbconvert_exporter": "python",
   "pygments_lexer": "ipython3",
   "version": "3.7.3"
  }
 },
 "nbformat": 4,
 "nbformat_minor": 2
}
